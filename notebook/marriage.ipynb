{
 "cells": [
  {
   "cell_type": "code",
   "execution_count": 1,
   "id": "c8ad6d6f",
   "metadata": {},
   "outputs": [],
   "source": [
    "import { document } from \"jsr:@ry/jupyter-helper\"\n",
    "import * as Plot from \"npm:@observablehq/plot@0.6.17\"\n",
    "import { data } from \"../src/data/marriage.ts\"\n",
    "import { fit } from \"../src/fit.ts\""
   ]
  },
  {
   "cell_type": "code",
   "execution_count": 7,
   "id": "4cbcc55b",
   "metadata": {},
   "outputs": [
    {
     "name": "stdout",
     "output_type": "stream",
     "text": [
      "2.77 0.27 0.00 0.00 14.44\n"
     ]
    }
   ],
   "source": [
    "const [a, b, c, max, offset] = await fit(data)\n",
    "\n",
    "console.log(\n",
    "    [a, b, c, max, offset].map(x => x.toFixed(2)).join(\" \"),\n",
    ")\n",
    "\n",
    "function* arr(n = Infinity) {\n",
    "    for (let i=0; i<n; i++) {\n",
    "        yield i\n",
    "    }\n",
    "    return\n",
    "}\n",
    "\n",
    "const gompertz_cdf =\n",
    "(...[t, a, b, c, max, offset]: number[]) =>\n",
    "    max*(c*(offset-t)+Math.exp(-a/b*Math.expm1((offset-t)*b)))\n",
    "\n",
    "const fitted =\n",
    "(n = Infinity) => arr(n)\n",
    "    .map(t => [t, gompertz_cdf(t, a, b, c, max, offset)])"
   ]
  },
  {
   "cell_type": "code",
   "execution_count": 3,
   "id": "db27696a",
   "metadata": {},
   "outputs": [
    {
     "data": {
      "image/svg+xml": [
       "<svg style=\"background:oklch(0.3 0.1 270);color:oklch(0.7 0.1 270)\" viewBox=\"0 0 640 400\" height=\"400\" width=\"640\" text-anchor=\"middle\" font-size=\"10\" font-family=\"system-ui, sans-serif\" fill=\"currentColor\" class=\"plot-d6a7b5\"><style>:where(.plot-d6a7b5) {\n",
       "  --plot-background: white;\n",
       "  display: block;\n",
       "  height: auto;\n",
       "  height: intrinsic;\n",
       "  max-width: 100%;\n",
       "}\n",
       ":where(.plot-d6a7b5 text),\n",
       ":where(.plot-d6a7b5 tspan) {\n",
       "  white-space: pre;\n",
       "}</style><g stroke=\"currentColor\" fill=\"none\" aria-hidden=\"true\" aria-label=\"y-axis tick\"><path d=\"M0,0L-6,0\" transform=\"translate(40,370)\" /><path d=\"M0,0L-6,0\" transform=\"translate(40,329.016393442623)\" /><path d=\"M0,0L-6,0\" transform=\"translate(40,288.03278688524586)\" /><path d=\"M0,0L-6,0\" transform=\"translate(40,247.04918032786887)\" /><path d=\"M0,0L-6,0\" transform=\"translate(40,206.0655737704918)\" /><path d=\"M0,0L-6,0\" transform=\"translate(40,165.08196721311475)\" /><path d=\"M0,0L-6,0\" transform=\"translate(40,124.09836065573775)\" /><path d=\"M0,0L-6,0\" transform=\"translate(40,83.11475409836068)\" /><path d=\"M0,0L-6,0\" transform=\"translate(40,42.13114754098363)\" /></g><g transform=\"translate(-9,0)\" font-variant=\"tabular-nums\" text-anchor=\"end\" aria-label=\"y-axis tick label\"><text transform=\"translate(40,370)\" y=\"0.32em\">0.0</text><text transform=\"translate(40,329.016393442623)\" y=\"0.32em\">0.1</text><text transform=\"translate(40,288.03278688524586)\" y=\"0.32em\">0.2</text><text transform=\"translate(40,247.04918032786887)\" y=\"0.32em\">0.3</text><text transform=\"translate(40,206.0655737704918)\" y=\"0.32em\">0.4</text><text transform=\"translate(40,165.08196721311475)\" y=\"0.32em\">0.5</text><text transform=\"translate(40,124.09836065573775)\" y=\"0.32em\">0.6</text><text transform=\"translate(40,83.11475409836068)\" y=\"0.32em\">0.7</text><text transform=\"translate(40,42.13114754098363)\" y=\"0.32em\">0.8</text></g><g stroke=\"currentColor\" fill=\"none\" aria-hidden=\"true\" aria-label=\"x-axis tick\"><path d=\"M0,0L0,6\" transform=\"translate(56.11111111111111,370)\" /><path d=\"M0,0L0,6\" transform=\"translate(136.66666666666666,370)\" /><path d=\"M0,0L0,6\" transform=\"translate(217.22222222222223,370)\" /><path d=\"M0,0L0,6\" transform=\"translate(297.77777777777777,370)\" /><path d=\"M0,0L0,6\" transform=\"translate(378.33333333333337,370)\" /><path d=\"M0,0L0,6\" transform=\"translate(458.88888888888886,370)\" /><path d=\"M0,0L0,6\" transform=\"translate(539.4444444444445,370)\" /><path d=\"M0,0L0,6\" transform=\"translate(620,370)\" /></g><g transform=\"translate(0,9)\" font-variant=\"tabular-nums\" aria-label=\"x-axis tick label\"><text transform=\"translate(56.11111111111111,370)\" y=\"0.71em\">15</text><text transform=\"translate(136.66666666666666,370)\" y=\"0.71em\">20</text><text transform=\"translate(217.22222222222223,370)\" y=\"0.71em\">25</text><text transform=\"translate(297.77777777777777,370)\" y=\"0.71em\">30</text><text transform=\"translate(378.33333333333337,370)\" y=\"0.71em\">35</text><text transform=\"translate(458.88888888888886,370)\" y=\"0.71em\">40</text><text transform=\"translate(539.4444444444445,370)\" y=\"0.71em\">45</text><text transform=\"translate(620,370)\" y=\"0.71em\">50</text></g><g stroke-width=\"1.5\" stroke=\"currentColor\" fill=\"none\" aria-label=\"dot\"><circle r=\"3\" cy=\"369.59016393442624\" cx=\"88.33333333333333\" /><circle r=\"3\" cy=\"368.3606557377049\" cx=\"104.44444444444444\" /><circle r=\"3\" cy=\"361.3934426229508\" cx=\"120.55555555555556\" /><circle r=\"3\" cy=\"342.13114754098365\" cx=\"136.66666666666666\" /><circle r=\"3\" cy=\"310.1639344262295\" cx=\"152.77777777777777\" /><circle r=\"3\" cy=\"270.40983606557376\" cx=\"168.88888888888889\" /><circle r=\"3\" cy=\"235.98360655737707\" cx=\"185\" /><circle r=\"3\" cy=\"202.7868852459017\" cx=\"201.11111111111111\" /><circle r=\"3\" cy=\"171.22950819672133\" cx=\"217.22222222222223\" /><circle r=\"3\" cy=\"144.1803278688525\" cx=\"233.33333333333331\" /><circle r=\"3\" cy=\"122.45901639344265\" cx=\"249.44444444444443\" /><circle r=\"3\" cy=\"103.6065573770492\" cx=\"265.55555555555554\" /><circle r=\"3\" cy=\"88.44262295081967\" cx=\"281.6666666666667\" /><circle r=\"3\" cy=\"76.55737704918039\" cx=\"297.77777777777777\" /><circle r=\"3\" cy=\"67.13114754098358\" cx=\"313.88888888888886\" /><circle r=\"3\" cy=\"60.57377049180332\" cx=\"330\" /><circle r=\"3\" cy=\"55.245901639344304\" cx=\"346.11111111111114\" /><circle r=\"3\" cy=\"50.32786885245905\" cx=\"362.22222222222223\" /><circle r=\"3\" cy=\"46.22950819672134\" cx=\"378.33333333333337\" /><circle r=\"3\" cy=\"42.540983606557404\" cx=\"394.44444444444446\" /><circle r=\"3\" cy=\"39.672131147541045\" cx=\"410.55555555555554\" /><circle r=\"3\" cy=\"37.21311475409838\" cx=\"426.66666666666663\" /><circle r=\"3\" cy=\"34.754098360655796\" cx=\"442.77777777777777\" /><circle r=\"3\" cy=\"32.29508196721313\" cx=\"458.88888888888886\" /><circle r=\"3\" cy=\"30.245901639344275\" cx=\"475\" /><circle r=\"3\" cy=\"28.606557377049228\" cx=\"491.11111111111114\" /><circle r=\"3\" cy=\"26.96721311475411\" cx=\"507.22222222222223\" /><circle r=\"3\" cy=\"25.737704918032833\" cx=\"523.3333333333334\" /><circle r=\"3\" cy=\"24.918032786885252\" cx=\"539.4444444444445\" /><circle r=\"3\" cy=\"23.68852459016398\" cx=\"555.5555555555555\" /><circle r=\"3\" cy=\"22.459016393442663\" cx=\"571.6666666666666\" /><circle r=\"3\" cy=\"21.639344262295122\" cx=\"587.7777777777777\" /><circle r=\"3\" cy=\"20.81967213114758\" cx=\"603.8888888888888\" /><circle r=\"3\" cy=\"20\" cx=\"620\" /></g><g stroke-linecap=\"round\" stroke-linejoin=\"round\" stroke-width=\"1.5\" stroke=\"currentColor\" fill=\"none\" aria-label=\"line\"><path d=\"M40,369.996L56.111,369.942L72.222,369.541L88.333,367.771L104.444,362.58L120.556,351.469L136.667,332.809L152.778,306.798L168.889,275.374L185,241.345L201.111,207.455L217.222,175.792L233.333,147.619L249.444,123.466L265.556,103.339L281.667,86.925L297.778,73.758L313.889,63.326L330,55.141L346.111,48.765L362.222,43.825L378.333,40.014L394.444,37.084L410.556,34.836L426.667,33.115L442.778,31.799L458.889,30.794L475,30.027L491.111,29.442L507.222,28.997L523.333,28.657L539.444,28.398L555.556,28.201L571.667,28.051L587.778,27.936L603.889,27.849L620,27.783\" /></g><g stroke-linecap=\"round\" stroke-linejoin=\"round\" stroke-width=\"1.5\" stroke=\"currentColor\" fill=\"none\" aria-label=\"line\"><path d=\"M40,370L56.111,369.946L72.222,369.598L88.333,368.23L104.444,364.809L120.556,358.889L136.667,351.339L152.778,343.99L168.889,338.576L185,335.971L201.111,336.11L217.222,338.337L233.333,341.827L249.444,345.847L265.556,349.873L281.667,353.586L297.778,356.833L313.889,359.569L330,361.815L346.111,363.624L362.222,365.06L378.333,366.189L394.444,367.07L410.556,367.752L426.667,368.279L442.778,368.684L458.889,368.995L475,369.233L491.111,369.415L507.222,369.554L523.333,369.66L539.444,369.741L555.556,369.803L571.667,369.85L587.778,369.886L603.889,369.913L620,369.934\" /></g></svg>"
      ]
     },
     "execution_count": 3,
     "metadata": {},
     "output_type": "execute_result"
    }
   ],
   "source": [
    "const fittedData = fitted(51).drop(offset).toArray()\n",
    "\n",
    "Plot.plot({\n",
    "    marks: [\n",
    "        Plot.dot(data),\n",
    "        Plot.line(fittedData),\n",
    "        Plot.line(\n",
    "            fittedData\n",
    "                .map(([x, y], i, l) => [x, y-l[i-1]?.[1] || 0]),\n",
    "        ),\n",
    "    ],\n",
    "    style: {\n",
    "        background: \"oklch(0.3 0.1 270)\",\n",
    "        color: \"oklch(0.7 0.1 270)\",\n",
    "    },\n",
    "    document,\n",
    "})"
   ]
  }
 ],
 "metadata": {
  "kernelspec": {
   "display_name": "Deno",
   "language": "typescript",
   "name": "deno"
  },
  "language_info": {
   "codemirror_mode": "typescript",
   "file_extension": ".ts",
   "mimetype": "text/x.typescript",
   "name": "typescript",
   "nbconvert_exporter": "script",
   "pygments_lexer": "typescript",
   "version": "5.8.3"
  }
 },
 "nbformat": 4,
 "nbformat_minor": 5
}
