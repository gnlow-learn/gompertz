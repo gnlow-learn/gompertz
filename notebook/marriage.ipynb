{
 "cells": [
  {
   "cell_type": "code",
   "execution_count": 1,
   "id": "c8ad6d6f",
   "metadata": {},
   "outputs": [],
   "source": [
    "import { document } from \"jsr:@ry/jupyter-helper\"\n",
    "import * as Plot from \"npm:@observablehq/plot@0.6.17\"\n",
    "import { data } from \"../src/data/marriage.ts\"\n",
    "import { fit } from \"../src/fit.ts\""
   ]
  },
  {
   "cell_type": "code",
   "execution_count": 2,
   "id": "4cbcc55b",
   "metadata": {},
   "outputs": [
    {
     "name": "stdout",
     "output_type": "stream",
     "text": [
      "83.55 12.54 0.27 13.66\n"
     ]
    }
   ],
   "source": [
    "const [a, b, c, offset] = await fit(data)\n",
    "\n",
    "console.log(\n",
    "    [a, b, c, offset].map(x => x.toFixed(2)).join(\" \"),\n",
    ")\n",
    "\n",
    "function* arr(n = Infinity) {\n",
    "    for (let i=0; i<n; i++) {\n",
    "        yield i\n",
    "    }\n",
    "    return\n",
    "}\n",
    "\n",
    "const gompertz =\n",
    "(...[t, a, b, c, offset]: number[]) =>\n",
    "    a*Math.exp(-b*Math.exp(-c*(t-offset)))\n",
    "\n",
    "const fitted =\n",
    "(n = Infinity) => arr(n)\n",
    "    .map(t => [t, gompertz(t, a, b, c, offset)])"
   ]
  },
  {
   "cell_type": "code",
   "execution_count": 3,
   "id": "db27696a",
   "metadata": {},
   "outputs": [
    {
     "data": {
      "image/svg+xml": [
       "<svg viewBox=\"0 0 640 400\" height=\"400\" width=\"640\" text-anchor=\"middle\" font-size=\"10\" font-family=\"system-ui, sans-serif\" fill=\"currentColor\" class=\"plot-d6a7b5\"><style>:where(.plot-d6a7b5) {\n",
       "  --plot-background: white;\n",
       "  display: block;\n",
       "  height: auto;\n",
       "  height: intrinsic;\n",
       "  max-width: 100%;\n",
       "}\n",
       ":where(.plot-d6a7b5 text),\n",
       ":where(.plot-d6a7b5 tspan) {\n",
       "  white-space: pre;\n",
       "}</style><g stroke=\"currentColor\" fill=\"none\" aria-hidden=\"true\" aria-label=\"y-axis tick\"><path d=\"M0,0L-6,0\" transform=\"translate(40,329.016393442623)\" /><path d=\"M0,0L-6,0\" transform=\"translate(40,288.03278688524586)\" /><path d=\"M0,0L-6,0\" transform=\"translate(40,247.04918032786887)\" /><path d=\"M0,0L-6,0\" transform=\"translate(40,206.0655737704918)\" /><path d=\"M0,0L-6,0\" transform=\"translate(40,165.08196721311475)\" /><path d=\"M0,0L-6,0\" transform=\"translate(40,124.09836065573771)\" /><path d=\"M0,0L-6,0\" transform=\"translate(40,83.11475409836068)\" /><path d=\"M0,0L-6,0\" transform=\"translate(40,42.13114754098363)\" /></g><g transform=\"translate(-9,0)\" font-variant=\"tabular-nums\" text-anchor=\"end\" aria-label=\"y-axis tick label\"><text transform=\"translate(40,329.016393442623)\" y=\"0.32em\">10</text><text transform=\"translate(40,288.03278688524586)\" y=\"0.32em\">20</text><text transform=\"translate(40,247.04918032786887)\" y=\"0.32em\">30</text><text transform=\"translate(40,206.0655737704918)\" y=\"0.32em\">40</text><text transform=\"translate(40,165.08196721311475)\" y=\"0.32em\">50</text><text transform=\"translate(40,124.09836065573771)\" y=\"0.32em\">60</text><text transform=\"translate(40,83.11475409836068)\" y=\"0.32em\">70</text><text transform=\"translate(40,42.13114754098363)\" y=\"0.32em\">80</text></g><g stroke=\"currentColor\" fill=\"none\" aria-hidden=\"true\" aria-label=\"x-axis tick\"><path d=\"M0,0L0,6\" transform=\"translate(40,370)\" /><path d=\"M0,0L0,6\" transform=\"translate(98,370)\" /><path d=\"M0,0L0,6\" transform=\"translate(156,370)\" /><path d=\"M0,0L0,6\" transform=\"translate(214,370)\" /><path d=\"M0,0L0,6\" transform=\"translate(272,370)\" /><path d=\"M0,0L0,6\" transform=\"translate(330,370)\" /><path d=\"M0,0L0,6\" transform=\"translate(388,370)\" /><path d=\"M0,0L0,6\" transform=\"translate(446,370)\" /><path d=\"M0,0L0,6\" transform=\"translate(504,370)\" /><path d=\"M0,0L0,6\" transform=\"translate(562,370)\" /><path d=\"M0,0L0,6\" transform=\"translate(620,370)\" /></g><g transform=\"translate(0,9)\" font-variant=\"tabular-nums\" aria-label=\"x-axis tick label\"><text transform=\"translate(40,370)\" y=\"0.71em\">0</text><text transform=\"translate(98,370)\" y=\"0.71em\">5</text><text transform=\"translate(156,370)\" y=\"0.71em\">10</text><text transform=\"translate(214,370)\" y=\"0.71em\">15</text><text transform=\"translate(272,370)\" y=\"0.71em\">20</text><text transform=\"translate(330,370)\" y=\"0.71em\">25</text><text transform=\"translate(388,370)\" y=\"0.71em\">30</text><text transform=\"translate(446,370)\" y=\"0.71em\">35</text><text transform=\"translate(504,370)\" y=\"0.71em\">40</text><text transform=\"translate(562,370)\" y=\"0.71em\">45</text><text transform=\"translate(620,370)\" y=\"0.71em\">50</text></g><g stroke-width=\"1.5\" stroke=\"black\" fill=\"none\" aria-label=\"dot\"><circle r=\"3\" cy=\"369.59016393442624\" cx=\"237.20000000000002\" /><circle r=\"3\" cy=\"368.3606557377049\" cx=\"248.79999999999998\" /><circle r=\"3\" cy=\"361.3934426229508\" cx=\"260.4\" /><circle r=\"3\" cy=\"342.13114754098365\" cx=\"272\" /><circle r=\"3\" cy=\"310.1639344262295\" cx=\"283.59999999999997\" /><circle r=\"3\" cy=\"270.40983606557376\" cx=\"295.2\" /><circle r=\"3\" cy=\"235.98360655737707\" cx=\"306.8\" /><circle r=\"3\" cy=\"202.7868852459017\" cx=\"318.4\" /><circle r=\"3\" cy=\"171.22950819672133\" cx=\"330\" /><circle r=\"3\" cy=\"144.1803278688525\" cx=\"341.6\" /><circle r=\"3\" cy=\"122.45901639344265\" cx=\"353.2\" /><circle r=\"3\" cy=\"103.6065573770492\" cx=\"364.80000000000007\" /><circle r=\"3\" cy=\"88.44262295081967\" cx=\"376.4\" /><circle r=\"3\" cy=\"76.55737704918035\" cx=\"388\" /><circle r=\"3\" cy=\"67.13114754098362\" cx=\"399.59999999999997\" /><circle r=\"3\" cy=\"60.57377049180328\" cx=\"411.2\" /><circle r=\"3\" cy=\"55.245901639344304\" cx=\"422.80000000000007\" /><circle r=\"3\" cy=\"50.32786885245905\" cx=\"434.40000000000003\" /><circle r=\"3\" cy=\"46.22950819672134\" cx=\"446\" /><circle r=\"3\" cy=\"42.54098360655736\" cx=\"457.59999999999997\" /><circle r=\"3\" cy=\"39.672131147541045\" cx=\"469.2\" /><circle r=\"3\" cy=\"37.21311475409838\" cx=\"480.8\" /><circle r=\"3\" cy=\"34.75409836065575\" cx=\"492.40000000000003\" /><circle r=\"3\" cy=\"32.29508196721313\" cx=\"504\" /><circle r=\"3\" cy=\"30.245901639344275\" cx=\"515.6\" /><circle r=\"3\" cy=\"28.606557377049228\" cx=\"527.1999999999999\" /><circle r=\"3\" cy=\"26.96721311475411\" cx=\"538.8000000000001\" /><circle r=\"3\" cy=\"25.737704918032794\" cx=\"550.4\" /><circle r=\"3\" cy=\"24.918032786885252\" cx=\"562\" /><circle r=\"3\" cy=\"23.68852459016394\" cx=\"573.6\" /><circle r=\"3\" cy=\"22.459016393442663\" cx=\"585.1999999999999\" /><circle r=\"3\" cy=\"21.639344262295122\" cx=\"596.8\" /><circle r=\"3\" cy=\"20.81967213114754\" cx=\"608.4\" /><circle r=\"3\" cy=\"20\" cx=\"620\" /></g><g stroke-linecap=\"round\" stroke-linejoin=\"round\" stroke-width=\"1.5\" stroke=\"red\" fill=\"none\" aria-label=\"line\"><path d=\"M40,370L51.6,370L63.2,370L74.8,370L86.4,370L98,370L109.6,370L121.2,370L132.8,370L144.4,370L156,370L167.6,370L179.2,370L190.8,370L202.4,369.996L214,369.942L225.6,369.541L237.2,367.771L248.8,362.58L260.4,351.469L272,332.809L283.6,306.798L295.2,275.374L306.8,241.345L318.4,207.455L330,175.792L341.6,147.619L353.2,123.466L364.8,103.339L376.4,86.925L388,73.757L399.6,63.326L411.2,55.141L422.8,48.764L434.4,43.825L446,40.014L457.6,37.084L469.2,34.836L480.8,33.115L492.4,31.799L504,30.794L515.6,30.027L527.2,29.442L538.8,28.996L550.4,28.656L562,28.397L573.6,28.2L585.2,28.05L596.8,27.936L608.4,27.849L620,27.783\" /></g></svg>"
      ]
     },
     "execution_count": 3,
     "metadata": {},
     "output_type": "execute_result"
    }
   ],
   "source": [
    "Plot.plot({\n",
    "    marks: [\n",
    "        Plot.dot(data, { stroke: \"black\" }),\n",
    "        Plot.line(fitted(51).toArray(), { stroke: \"red\" }),\n",
    "    ],\n",
    "    document,\n",
    "})"
   ]
  }
 ],
 "metadata": {
  "kernelspec": {
   "display_name": "Deno",
   "language": "typescript",
   "name": "deno"
  },
  "language_info": {
   "codemirror_mode": "typescript",
   "file_extension": ".ts",
   "mimetype": "text/x.typescript",
   "name": "typescript",
   "nbconvert_exporter": "script",
   "pygments_lexer": "typescript",
   "version": "5.8.3"
  }
 },
 "nbformat": 4,
 "nbformat_minor": 5
}
