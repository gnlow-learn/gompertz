{
 "cells": [
  {
   "cell_type": "code",
   "execution_count": 1,
   "id": "c8ad6d6f",
   "metadata": {},
   "outputs": [],
   "source": [
    "import { document } from \"jsr:@ry/jupyter-helper\"\n",
    "import * as Plot from \"npm:@observablehq/plot@0.6.17\"\n",
    "import { data } from \"../src/data/marriage.ts\"\n",
    "import { fit } from \"../src/fit.ts\""
   ]
  },
  {
   "cell_type": "code",
   "execution_count": 2,
   "id": "4cbcc55b",
   "metadata": {},
   "outputs": [
    {
     "name": "stdout",
     "output_type": "stream",
     "text": [
      "83.55 12.54 0.27 13.66\n"
     ]
    }
   ],
   "source": [
    "const [a, b, c, offset] = await fit(data)\n",
    "\n",
    "console.log(\n",
    "    [a, b, c, offset].map(x => x.toFixed(2)).join(\" \"),\n",
    ")\n",
    "\n",
    "function* arr(n = Infinity) {\n",
    "    for (let i=0; i<n; i++) {\n",
    "        yield i\n",
    "    }\n",
    "    return\n",
    "}\n",
    "\n",
    "const gompertz =\n",
    "(...[t, a, b, c, offset]: number[]) =>\n",
    "    a*Math.exp(-b*Math.exp(-c*(t-offset)))\n",
    "\n",
    "const fitted =\n",
    "(n = Infinity) => arr(n)\n",
    "    .map(t => [t, gompertz(t, a, b, c, offset)])"
   ]
  },
  {
   "cell_type": "code",
   "execution_count": 14,
   "id": "db27696a",
   "metadata": {},
   "outputs": [
    {
     "data": {
      "image/svg+xml": [
       "<svg style=\"background:oklch(0.3 0.1 270);color:oklch(0.7 0.1 270)\" viewBox=\"0 0 640 400\" height=\"400\" width=\"640\" text-anchor=\"middle\" font-size=\"10\" font-family=\"system-ui, sans-serif\" fill=\"currentColor\" class=\"plot-d6a7b5\"><style>:where(.plot-d6a7b5) {\n",
       "  --plot-background: white;\n",
       "  display: block;\n",
       "  height: auto;\n",
       "  height: intrinsic;\n",
       "  max-width: 100%;\n",
       "}\n",
       ":where(.plot-d6a7b5 text),\n",
       ":where(.plot-d6a7b5 tspan) {\n",
       "  white-space: pre;\n",
       "}</style><g stroke=\"currentColor\" fill=\"none\" aria-hidden=\"true\" aria-label=\"y-axis tick\"><path d=\"M0,0L-6,0\" transform=\"translate(40,370)\" /><path d=\"M0,0L-6,0\" transform=\"translate(40,329.016393442623)\" /><path d=\"M0,0L-6,0\" transform=\"translate(40,288.03278688524586)\" /><path d=\"M0,0L-6,0\" transform=\"translate(40,247.04918032786887)\" /><path d=\"M0,0L-6,0\" transform=\"translate(40,206.0655737704918)\" /><path d=\"M0,0L-6,0\" transform=\"translate(40,165.08196721311475)\" /><path d=\"M0,0L-6,0\" transform=\"translate(40,124.09836065573771)\" /><path d=\"M0,0L-6,0\" transform=\"translate(40,83.11475409836068)\" /><path d=\"M0,0L-6,0\" transform=\"translate(40,42.13114754098363)\" /></g><g transform=\"translate(-9,0)\" font-variant=\"tabular-nums\" text-anchor=\"end\" aria-label=\"y-axis tick label\"><text transform=\"translate(40,370)\" y=\"0.32em\">0</text><text transform=\"translate(40,329.016393442623)\" y=\"0.32em\">10</text><text transform=\"translate(40,288.03278688524586)\" y=\"0.32em\">20</text><text transform=\"translate(40,247.04918032786887)\" y=\"0.32em\">30</text><text transform=\"translate(40,206.0655737704918)\" y=\"0.32em\">40</text><text transform=\"translate(40,165.08196721311475)\" y=\"0.32em\">50</text><text transform=\"translate(40,124.09836065573771)\" y=\"0.32em\">60</text><text transform=\"translate(40,83.11475409836068)\" y=\"0.32em\">70</text><text transform=\"translate(40,42.13114754098363)\" y=\"0.32em\">80</text></g><g stroke=\"currentColor\" fill=\"none\" aria-hidden=\"true\" aria-label=\"x-axis tick\"><path d=\"M0,0L0,6\" transform=\"translate(71.35135135135135,370)\" /><path d=\"M0,0L0,6\" transform=\"translate(149.72972972972974,370)\" /><path d=\"M0,0L0,6\" transform=\"translate(228.10810810810813,370)\" /><path d=\"M0,0L0,6\" transform=\"translate(306.4864864864865,370)\" /><path d=\"M0,0L0,6\" transform=\"translate(384.86486486486484,370)\" /><path d=\"M0,0L0,6\" transform=\"translate(463.2432432432433,370)\" /><path d=\"M0,0L0,6\" transform=\"translate(541.6216216216217,370)\" /><path d=\"M0,0L0,6\" transform=\"translate(620,370)\" /></g><g transform=\"translate(0,9)\" font-variant=\"tabular-nums\" aria-label=\"x-axis tick label\"><text transform=\"translate(71.35135135135135,370)\" y=\"0.71em\">15</text><text transform=\"translate(149.72972972972974,370)\" y=\"0.71em\">20</text><text transform=\"translate(228.10810810810813,370)\" y=\"0.71em\">25</text><text transform=\"translate(306.4864864864865,370)\" y=\"0.71em\">30</text><text transform=\"translate(384.86486486486484,370)\" y=\"0.71em\">35</text><text transform=\"translate(463.2432432432433,370)\" y=\"0.71em\">40</text><text transform=\"translate(541.6216216216217,370)\" y=\"0.71em\">45</text><text transform=\"translate(620,370)\" y=\"0.71em\">50</text></g><g stroke-width=\"1.5\" stroke=\"currentColor\" fill=\"none\" aria-label=\"dot\"><circle r=\"3\" cy=\"369.59016393442624\" cx=\"102.70270270270271\" /><circle r=\"3\" cy=\"368.3606557377049\" cx=\"118.37837837837839\" /><circle r=\"3\" cy=\"361.3934426229508\" cx=\"134.05405405405406\" /><circle r=\"3\" cy=\"342.13114754098365\" cx=\"149.72972972972974\" /><circle r=\"3\" cy=\"310.1639344262295\" cx=\"165.40540540540542\" /><circle r=\"3\" cy=\"270.40983606557376\" cx=\"181.0810810810811\" /><circle r=\"3\" cy=\"235.98360655737707\" cx=\"196.75675675675677\" /><circle r=\"3\" cy=\"202.7868852459017\" cx=\"212.43243243243242\" /><circle r=\"3\" cy=\"171.22950819672133\" cx=\"228.10810810810813\" /><circle r=\"3\" cy=\"144.1803278688525\" cx=\"243.78378378378378\" /><circle r=\"3\" cy=\"122.45901639344265\" cx=\"259.4594594594595\" /><circle r=\"3\" cy=\"103.6065573770492\" cx=\"275.13513513513516\" /><circle r=\"3\" cy=\"88.44262295081967\" cx=\"290.81081081081084\" /><circle r=\"3\" cy=\"76.55737704918035\" cx=\"306.4864864864865\" /><circle r=\"3\" cy=\"67.13114754098362\" cx=\"322.16216216216213\" /><circle r=\"3\" cy=\"60.57377049180328\" cx=\"337.83783783783787\" /><circle r=\"3\" cy=\"55.245901639344304\" cx=\"353.51351351351354\" /><circle r=\"3\" cy=\"50.32786885245905\" cx=\"369.18918918918916\" /><circle r=\"3\" cy=\"46.22950819672134\" cx=\"384.86486486486484\" /><circle r=\"3\" cy=\"42.54098360655736\" cx=\"400.5405405405406\" /><circle r=\"3\" cy=\"39.672131147541045\" cx=\"416.21621621621625\" /><circle r=\"3\" cy=\"37.21311475409838\" cx=\"431.8918918918919\" /><circle r=\"3\" cy=\"34.75409836065575\" cx=\"447.56756756756755\" /><circle r=\"3\" cy=\"32.29508196721313\" cx=\"463.2432432432433\" /><circle r=\"3\" cy=\"30.245901639344275\" cx=\"478.91891891891896\" /><circle r=\"3\" cy=\"28.606557377049228\" cx=\"494.5945945945946\" /><circle r=\"3\" cy=\"26.96721311475411\" cx=\"510.27027027027026\" /><circle r=\"3\" cy=\"25.737704918032794\" cx=\"525.9459459459459\" /><circle r=\"3\" cy=\"24.918032786885252\" cx=\"541.6216216216217\" /><circle r=\"3\" cy=\"23.68852459016394\" cx=\"557.2972972972974\" /><circle r=\"3\" cy=\"22.459016393442663\" cx=\"572.972972972973\" /><circle r=\"3\" cy=\"21.639344262295122\" cx=\"588.6486486486486\" /><circle r=\"3\" cy=\"20.81967213114754\" cx=\"604.3243243243243\" /><circle r=\"3\" cy=\"20\" cx=\"620\" /></g><g stroke-linecap=\"round\" stroke-linejoin=\"round\" stroke-width=\"1.5\" stroke=\"currentColor\" fill=\"none\" aria-label=\"line\"><path d=\"M40,370L55.676,369.996L71.351,369.942L87.027,369.541L102.703,367.771L118.378,362.58L134.054,351.469L149.73,332.809L165.405,306.798L181.081,275.374L196.757,241.345L212.432,207.455L228.108,175.792L243.784,147.619L259.459,123.466L275.135,103.339L290.811,86.925L306.486,73.757L322.162,63.326L337.838,55.141L353.514,48.764L369.189,43.825L384.865,40.014L400.541,37.084L416.216,34.836L431.892,33.115L447.568,31.799L463.243,30.794L478.919,30.027L494.595,29.442L510.27,28.996L525.946,28.656L541.622,28.397L557.297,28.2L572.973,28.05L588.649,27.936L604.324,27.849L620,27.783\" /></g><g stroke-linecap=\"round\" stroke-linejoin=\"round\" stroke-width=\"1.5\" stroke=\"currentColor\" fill=\"none\" aria-label=\"line\"><path d=\"M40,370L55.676,369.996L71.351,369.946L87.027,369.598L102.703,368.23L118.378,364.809L134.054,358.889L149.73,351.339L165.405,343.99L181.081,338.576L196.757,335.971L212.432,336.11L228.108,338.337L243.784,341.827L259.459,345.847L275.135,349.873L290.811,353.586L306.486,356.833L322.162,359.569L337.838,361.815L353.514,363.624L369.189,365.06L384.865,366.189L400.541,367.07L416.216,367.752L431.892,368.279L447.568,368.684L463.243,368.995L478.919,369.233L494.595,369.415L510.27,369.554L525.946,369.66L541.622,369.741L557.297,369.803L572.973,369.85L588.649,369.886L604.324,369.913L620,369.934\" /></g></svg>"
      ]
     },
     "execution_count": 14,
     "metadata": {},
     "output_type": "execute_result"
    }
   ],
   "source": [
    "const fittedData = fitted(51).drop(offset).toArray()\n",
    "\n",
    "Plot.plot({\n",
    "    marks: [\n",
    "        Plot.dot(data),\n",
    "        Plot.line(fittedData),\n",
    "        Plot.line(\n",
    "            fittedData\n",
    "                .map(([x, y], i, l) => [x, y-l[i-1]?.[1] || 0]),\n",
    "        ),\n",
    "    ],\n",
    "    style: {\n",
    "        background: \"oklch(0.3 0.1 270)\",\n",
    "        color: \"oklch(0.7 0.1 270)\",\n",
    "    },\n",
    "    document,\n",
    "})"
   ]
  }
 ],
 "metadata": {
  "kernelspec": {
   "display_name": "Deno",
   "language": "typescript",
   "name": "deno"
  },
  "language_info": {
   "codemirror_mode": "typescript",
   "file_extension": ".ts",
   "mimetype": "text/x.typescript",
   "name": "typescript",
   "nbconvert_exporter": "script",
   "pygments_lexer": "typescript",
   "version": "5.8.3"
  }
 },
 "nbformat": 4,
 "nbformat_minor": 5
}
