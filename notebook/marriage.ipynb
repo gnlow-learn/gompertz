{
 "cells": [
  {
   "cell_type": "code",
   "execution_count": 1,
   "id": "c8ad6d6f",
   "metadata": {},
   "outputs": [],
   "source": [
    "import { document } from \"jsr:@ry/jupyter-helper\"\n",
    "import * as Plot from \"npm:@observablehq/plot@0.6.17\"\n",
    "import { data } from \"../src/data/marriage.ts\"\n",
    "import { fit } from \"../src/fit.ts\""
   ]
  },
  {
   "cell_type": "code",
   "execution_count": 2,
   "id": "4cbcc55b",
   "metadata": {},
   "outputs": [
    {
     "name": "stdout",
     "output_type": "stream",
     "text": [
      "83.55 12.54 0.27 13.66\n"
     ]
    }
   ],
   "source": [
    "const [a, b, c, offset] = await fit(data)\n",
    "\n",
    "console.log(\n",
    "    [a, b, c, offset].map(x => x.toFixed(2)).join(\" \"),\n",
    ")\n",
    "\n",
    "function* arr(n = Infinity) {\n",
    "    for (let i=0; i<n; i++) {\n",
    "        yield i\n",
    "    }\n",
    "    return\n",
    "}\n",
    "\n",
    "const gompertz =\n",
    "(...[t, a, b, c, offset]: number[]) =>\n",
    "    a*Math.exp(-b*Math.exp(-c*(t-offset)))\n",
    "\n",
    "const fitted =\n",
    "(n = Infinity) => arr(n)\n",
    "    .map(t => [t, gompertz(t, a, b, c, offset)])"
   ]
  },
  {
   "cell_type": "code",
   "execution_count": 4,
   "id": "db27696a",
   "metadata": {},
   "outputs": [
    {
     "data": {
      "image/svg+xml": [
       "<svg viewBox=\"0 0 640 400\" height=\"400\" width=\"640\" text-anchor=\"middle\" font-size=\"10\" font-family=\"system-ui, sans-serif\" fill=\"currentColor\" class=\"plot-d6a7b5\"><style>:where(.plot-d6a7b5) {\n",
       "  --plot-background: white;\n",
       "  display: block;\n",
       "  height: auto;\n",
       "  height: intrinsic;\n",
       "  max-width: 100%;\n",
       "}\n",
       ":where(.plot-d6a7b5 text),\n",
       ":where(.plot-d6a7b5 tspan) {\n",
       "  white-space: pre;\n",
       "}</style><g stroke=\"currentColor\" fill=\"none\" aria-hidden=\"true\" aria-label=\"y-axis tick\"><path d=\"M0,0L-6,0\" transform=\"translate(40,329.01648595808206)\" /><path d=\"M0,0L-6,0\" transform=\"translate(40,288.0328671307503)\" /><path d=\"M0,0L-6,0\" transform=\"translate(40,247.04924830341838)\" /><path d=\"M0,0L-6,0\" transform=\"translate(40,206.06562947608654)\" /><path d=\"M0,0L-6,0\" transform=\"translate(40,165.08201064875468)\" /><path d=\"M0,0L-6,0\" transform=\"translate(40,124.09839182142287)\" /><path d=\"M0,0L-6,0\" transform=\"translate(40,83.11477299409104)\" /><path d=\"M0,0L-6,0\" transform=\"translate(40,42.13115416675922)\" /></g><g transform=\"translate(-9,0)\" font-variant=\"tabular-nums\" text-anchor=\"end\" aria-label=\"y-axis tick label\"><text transform=\"translate(40,329.01648595808206)\" y=\"0.32em\">10</text><text transform=\"translate(40,288.0328671307503)\" y=\"0.32em\">20</text><text transform=\"translate(40,247.04924830341838)\" y=\"0.32em\">30</text><text transform=\"translate(40,206.06562947608654)\" y=\"0.32em\">40</text><text transform=\"translate(40,165.08201064875468)\" y=\"0.32em\">50</text><text transform=\"translate(40,124.09839182142287)\" y=\"0.32em\">60</text><text transform=\"translate(40,83.11477299409104)\" y=\"0.32em\">70</text><text transform=\"translate(40,42.13115416675922)\" y=\"0.32em\">80</text></g><g stroke=\"currentColor\" fill=\"none\" aria-hidden=\"true\" aria-label=\"x-axis tick\"><path d=\"M0,0L0,6\" transform=\"translate(71.35135135135135,370)\" /><path d=\"M0,0L0,6\" transform=\"translate(149.72972972972974,370)\" /><path d=\"M0,0L0,6\" transform=\"translate(228.10810810810813,370)\" /><path d=\"M0,0L0,6\" transform=\"translate(306.4864864864865,370)\" /><path d=\"M0,0L0,6\" transform=\"translate(384.86486486486484,370)\" /><path d=\"M0,0L0,6\" transform=\"translate(463.2432432432433,370)\" /><path d=\"M0,0L0,6\" transform=\"translate(541.6216216216217,370)\" /><path d=\"M0,0L0,6\" transform=\"translate(620,370)\" /></g><g transform=\"translate(0,9)\" font-variant=\"tabular-nums\" aria-label=\"x-axis tick label\"><text transform=\"translate(71.35135135135135,370)\" y=\"0.71em\">15</text><text transform=\"translate(149.72972972972974,370)\" y=\"0.71em\">20</text><text transform=\"translate(228.10810810810813,370)\" y=\"0.71em\">25</text><text transform=\"translate(306.4864864864865,370)\" y=\"0.71em\">30</text><text transform=\"translate(384.86486486486484,370)\" y=\"0.71em\">35</text><text transform=\"translate(463.2432432432433,370)\" y=\"0.71em\">40</text><text transform=\"translate(541.6216216216217,370)\" y=\"0.71em\">45</text><text transform=\"translate(620,370)\" y=\"0.71em\">50</text></g><g stroke-width=\"1.5\" stroke=\"black\" fill=\"none\" aria-label=\"dot\"><circle r=\"3\" cy=\"369.5902685971406\" cx=\"102.70270270270271\" /><circle r=\"3\" cy=\"368.3607600323206\" cx=\"118.37837837837839\" /><circle r=\"3\" cy=\"361.3935448316742\" cx=\"134.05405405405406\" /><circle r=\"3\" cy=\"342.1312439828282\" cx=\"149.72972972972974\" /><circle r=\"3\" cy=\"310.1640212975094\" cx=\"165.40540540540542\" /><circle r=\"3\" cy=\"270.40991103499755\" cx=\"181.0810810810811\" /><circle r=\"3\" cy=\"235.9836712200388\" cx=\"196.75675675675677\" /><circle r=\"3\" cy=\"202.7869399699\" cx=\"212.43243243243242\" /><circle r=\"3\" cy=\"171.22955347285446\" cx=\"228.10810810810813\" /><circle r=\"3\" cy=\"144.18036504681547\" cx=\"243.78378378378378\" /><circle r=\"3\" cy=\"122.4590470683296\" cx=\"259.4594594594595\" /><circle r=\"3\" cy=\"103.606582407757\" cx=\"275.13513513513516\" /><circle r=\"3\" cy=\"88.4426434416442\" cx=\"290.81081081081084\" /><circle r=\"3\" cy=\"76.55739398171798\" cx=\"306.4864864864865\" /><circle r=\"3\" cy=\"67.1311616514316\" cx=\"322.16216216216213\" /><circle r=\"3\" cy=\"60.57378263905855\" cx=\"337.83783783783787\" /><circle r=\"3\" cy=\"55.245912191505404\" cx=\"353.51351351351354\" /><circle r=\"3\" cy=\"50.327877932225576\" cx=\"369.18918918918916\" /><circle r=\"3\" cy=\"46.22951604949242\" cx=\"384.86486486486484\" /><circle r=\"3\" cy=\"42.540990355032534\" cx=\"400.5405405405406\" /><circle r=\"3\" cy=\"39.67213703711932\" cx=\"416.21621621621625\" /><circle r=\"3\" cy=\"37.21311990747938\" cx=\"431.8918918918919\" /><circle r=\"3\" cy=\"34.75410277783949\" cx=\"447.56756756756755\" /><circle r=\"3\" cy=\"32.29508564819955\" cx=\"463.2432432432433\" /><circle r=\"3\" cy=\"30.245904706832974\" cx=\"478.91891891891896\" /><circle r=\"3\" cy=\"28.606559953739712\" cx=\"494.5945945945946\" /><circle r=\"3\" cy=\"26.96721520064641\" cx=\"510.27027027027026\" /><circle r=\"3\" cy=\"25.737706635826463\" cx=\"525.9459459459459\" /><circle r=\"3\" cy=\"24.91803425927983\" cx=\"541.6216216216217\" /><circle r=\"3\" cy=\"23.688525694459884\" cx=\"557.2972972972974\" /><circle r=\"3\" cy=\"22.459017129639935\" cx=\"572.972972972973\" /><circle r=\"3\" cy=\"21.6393447530933\" cx=\"588.6486486486486\" /><circle r=\"3\" cy=\"20.81967237654663\" cx=\"604.3243243243243\" /><circle r=\"3\" cy=\"20\" cx=\"620\" /></g><g stroke-linecap=\"round\" stroke-linejoin=\"round\" stroke-width=\"1.5\" stroke=\"red\" fill=\"none\" aria-label=\"line\"><path d=\"M40,370L55.676,369.996L71.351,369.942L87.027,369.541L102.703,367.771L118.378,362.58L134.054,351.47L149.73,332.809L165.405,306.798L181.081,275.374L196.757,241.345L212.432,207.455L228.108,175.792L243.784,147.619L259.459,123.466L275.135,103.339L290.811,86.925L306.486,73.757L322.162,63.326L337.838,55.141L353.514,48.764L369.189,43.825L384.865,40.014L400.541,37.084L416.216,34.836L431.892,33.115L447.568,31.799L463.243,30.794L478.919,30.027L494.595,29.442L510.27,28.996L525.946,28.656L541.622,28.397L557.297,28.2L572.973,28.05L588.649,27.936L604.324,27.849L620,27.783\" /></g></svg>"
      ]
     },
     "execution_count": 4,
     "metadata": {},
     "output_type": "execute_result"
    }
   ],
   "source": [
    "Plot.plot({\n",
    "    marks: [\n",
    "        Plot.dot(data, { stroke: \"black\" }),\n",
    "        Plot.line(fitted(51).drop(offset).toArray(), { stroke: \"red\" }),\n",
    "    ],\n",
    "    document,\n",
    "})"
   ]
  }
 ],
 "metadata": {
  "kernelspec": {
   "display_name": "Deno",
   "language": "typescript",
   "name": "deno"
  },
  "language_info": {
   "codemirror_mode": "typescript",
   "file_extension": ".ts",
   "mimetype": "text/x.typescript",
   "name": "typescript",
   "nbconvert_exporter": "script",
   "pygments_lexer": "typescript",
   "version": "5.8.3"
  }
 },
 "nbformat": 4,
 "nbformat_minor": 5
}
