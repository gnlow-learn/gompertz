{
 "cells": [
  {
   "cell_type": "code",
   "execution_count": 1,
   "id": "c8ad6d6f",
   "metadata": {},
   "outputs": [],
   "source": [
    "import { document } from \"jsr:@ry/jupyter-helper\"\n",
    "import * as Plot from \"npm:@observablehq/plot@0.6.17\"\n",
    "import { data } from \"../src/data/marriage.ts\"\n",
    "import { fit } from \"../src/fit.ts\""
   ]
  },
  {
   "cell_type": "code",
   "execution_count": 4,
   "id": "4cbcc55b",
   "metadata": {},
   "outputs": [
    {
     "name": "stdout",
     "output_type": "stream",
     "text": [
      "0.07 0.13 0.83 18.07\n"
     ]
    }
   ],
   "source": [
    "const [a, b, max, offset] = await fit(data)\n",
    "\n",
    "console.log(\n",
    "    [a, b, max, offset].map(x => x.toFixed(2)).join(\" \"),\n",
    ")\n",
    "\n",
    "function* arr(n = Infinity) {\n",
    "    for (let i=0; i<n; i++) {\n",
    "        yield i\n",
    "    }\n",
    "    return\n",
    "}\n",
    "\n",
    "const gompertz_cdf =\n",
    "(...[t, a, b, max, offset]: number[]) =>\n",
    "    max*(1-Math.exp(-a/b*(Math.expm1((t-offset)*b))))\n",
    "\n",
    "const fitted =\n",
    "(n = Infinity) => arr(n)\n",
    "    .map(t => [t, gompertz_cdf(t, a, b, max, offset)])"
   ]
  },
  {
   "cell_type": "code",
   "execution_count": 5,
   "id": "db27696a",
   "metadata": {},
   "outputs": [
    {
     "data": {
      "image/svg+xml": [
       "<svg style=\"background:oklch(0.3 0.1 270);color:oklch(0.7 0.1 270)\" viewBox=\"0 0 640 400\" height=\"400\" width=\"640\" text-anchor=\"middle\" font-size=\"10\" font-family=\"system-ui, sans-serif\" fill=\"currentColor\" class=\"plot-d6a7b5\"><style>:where(.plot-d6a7b5) {\n",
       "  --plot-background: white;\n",
       "  display: block;\n",
       "  height: auto;\n",
       "  height: intrinsic;\n",
       "  max-width: 100%;\n",
       "}\n",
       ":where(.plot-d6a7b5 text),\n",
       ":where(.plot-d6a7b5 tspan) {\n",
       "  white-space: pre;\n",
       "}</style><g stroke=\"currentColor\" fill=\"none\" aria-hidden=\"true\" aria-label=\"y-axis tick\"><path d=\"M0,0L-6,0\" transform=\"translate(40,368.3448432855566)\" /><path d=\"M0,0L-6,0\" transform=\"translate(40,327.555048989824)\" /><path d=\"M0,0L-6,0\" transform=\"translate(40,286.76525469409137)\" /><path d=\"M0,0L-6,0\" transform=\"translate(40,245.97546039835873)\" /><path d=\"M0,0L-6,0\" transform=\"translate(40,205.1856661026261)\" /><path d=\"M0,0L-6,0\" transform=\"translate(40,164.39587180689352)\" /><path d=\"M0,0L-6,0\" transform=\"translate(40,123.60607751116092)\" /><path d=\"M0,0L-6,0\" transform=\"translate(40,82.81628321542829)\" /><path d=\"M0,0L-6,0\" transform=\"translate(40,42.02648891969564)\" /></g><g transform=\"translate(-9,0)\" font-variant=\"tabular-nums\" text-anchor=\"end\" aria-label=\"y-axis tick label\"><text transform=\"translate(40,368.3448432855566)\" y=\"0.32em\">0.0</text><text transform=\"translate(40,327.555048989824)\" y=\"0.32em\">0.1</text><text transform=\"translate(40,286.76525469409137)\" y=\"0.32em\">0.2</text><text transform=\"translate(40,245.97546039835873)\" y=\"0.32em\">0.3</text><text transform=\"translate(40,205.1856661026261)\" y=\"0.32em\">0.4</text><text transform=\"translate(40,164.39587180689352)\" y=\"0.32em\">0.5</text><text transform=\"translate(40,123.60607751116092)\" y=\"0.32em\">0.6</text><text transform=\"translate(40,82.81628321542829)\" y=\"0.32em\">0.7</text><text transform=\"translate(40,42.02648891969564)\" y=\"0.32em\">0.8</text></g><g stroke=\"currentColor\" fill=\"none\" aria-hidden=\"true\" aria-label=\"x-axis tick\"><path d=\"M0,0L0,6\" transform=\"translate(92.72727272727272,370)\" /><path d=\"M0,0L0,6\" transform=\"translate(180.60606060606062,370)\" /><path d=\"M0,0L0,6\" transform=\"translate(268.48484848484844,370)\" /><path d=\"M0,0L0,6\" transform=\"translate(356.3636363636363,370)\" /><path d=\"M0,0L0,6\" transform=\"translate(444.24242424242425,370)\" /><path d=\"M0,0L0,6\" transform=\"translate(532.1212121212121,370)\" /><path d=\"M0,0L0,6\" transform=\"translate(620,370)\" /></g><g transform=\"translate(0,9)\" font-variant=\"tabular-nums\" aria-label=\"x-axis tick label\"><text transform=\"translate(92.72727272727272,370)\" y=\"0.71em\">20</text><text transform=\"translate(180.60606060606062,370)\" y=\"0.71em\">25</text><text transform=\"translate(268.48484848484844,370)\" y=\"0.71em\">30</text><text transform=\"translate(356.3636363636363,370)\" y=\"0.71em\">35</text><text transform=\"translate(444.24242424242425,370)\" y=\"0.71em\">40</text><text transform=\"translate(532.1212121212121,370)\" y=\"0.71em\">45</text><text transform=\"translate(620,370)\" y=\"0.71em\">50</text></g><g stroke-width=\"1.5\" stroke=\"currentColor\" fill=\"none\" aria-label=\"dot\"><circle r=\"3\" cy=\"367.9369453425993\" cx=\"40\" /><circle r=\"3\" cy=\"366.71325151372736\" cx=\"57.57575757575758\" /><circle r=\"3\" cy=\"359.77898648345274\" cx=\"75.15151515151516\" /><circle r=\"3\" cy=\"340.6077831644584\" cx=\"92.72727272727272\" /><circle r=\"3\" cy=\"308.791743613787\" cx=\"110.30303030303031\" /><circle r=\"3\" cy=\"269.22564314692636\" cx=\"127.87878787878788\" /><circle r=\"3\" cy=\"234.96221593851095\" cx=\"145.45454545454547\" /><circle r=\"3\" cy=\"201.92248255896752\" cx=\"163.03030303030306\" /><circle r=\"3\" cy=\"170.51434095125342\" cx=\"180.60606060606062\" /><circle r=\"3\" cy=\"143.59307671606987\" cx=\"198.18181818181816\" /><circle r=\"3\" cy=\"121.97448573933161\" cx=\"215.75757575757575\" /><circle r=\"3\" cy=\"103.21118036329457\" cx=\"233.33333333333331\" /><circle r=\"3\" cy=\"88.1189564738735\" cx=\"250.90909090909093\" /><circle r=\"3\" cy=\"76.28991612811109\" cx=\"268.48484848484844\" /><circle r=\"3\" cy=\"66.90826344009253\" cx=\"286.06060606060606\" /><circle r=\"3\" cy=\"60.38189635277534\" cx=\"303.6363636363636\" /><circle r=\"3\" cy=\"55.079223094330075\" cx=\"321.21212121212125\" /><circle r=\"3\" cy=\"50.18444777884215\" cx=\"338.78787878787875\" /><circle r=\"3\" cy=\"46.1054683492689\" cx=\"356.3636363636363\" /><circle r=\"3\" cy=\"42.43438686265296\" cx=\"373.939393939394\" /><circle r=\"3\" cy=\"39.57910126195172\" cx=\"391.5151515151515\" /><circle r=\"3\" cy=\"37.13171360420772\" cx=\"409.0909090909091\" /><circle r=\"3\" cy=\"34.6843259464638\" cx=\"426.66666666666663\" /><circle r=\"3\" cy=\"32.2369382887198\" cx=\"444.24242424242425\" /><circle r=\"3\" cy=\"30.197448573933155\" cx=\"461.81818181818187\" /><circle r=\"3\" cy=\"28.5658568021039\" cx=\"479.3939393939394\" /><circle r=\"3\" cy=\"26.934265030274567\" cx=\"496.96969696969694\" /><circle r=\"3\" cy=\"25.710571201402626\" cx=\"514.5454545454546\" /><circle r=\"3\" cy=\"24.89477531548792\" cx=\"532.1212121212121\" /><circle r=\"3\" cy=\"23.67108148661598\" cx=\"549.6969696969697\" /><circle r=\"3\" cy=\"22.447387657744002\" cx=\"567.2727272727273\" /><circle r=\"3\" cy=\"21.631591771829335\" cx=\"584.8484848484849\" /><circle r=\"3\" cy=\"20.815795885914703\" cx=\"602.4242424242425\" /><circle r=\"3\" cy=\"20\" cx=\"620\" /></g><g stroke-linecap=\"round\" stroke-linejoin=\"round\" stroke-width=\"1.5\" stroke=\"currentColor\" fill=\"none\" aria-label=\"line\"><path d=\"M57.576,370L75.152,345.53L92.727,319.72L110.303,292.807L127.879,265.108L145.455,237.022L163.03,209.025L180.606,181.655L198.182,155.486L215.758,131.094L233.333,109.008L250.909,89.661L268.485,73.343L286.061,60.162L303.636,50.027L321.212,42.66L338.788,37.639L356.364,34.458L373.939,32.605L391.515,31.624L409.091,31.158L426.667,30.962L444.242,30.891L461.818,30.868L479.394,30.863L496.97,30.862L514.545,30.861L532.121,30.861L549.697,30.861L567.273,30.861L584.848,30.861L602.424,30.861L620,30.861\" /></g><g stroke-linecap=\"round\" stroke-linejoin=\"round\" stroke-width=\"1.5\" stroke=\"currentColor\" fill=\"none\" aria-label=\"line\"><path d=\"M57.576,368.345L75.152,343.875L92.727,342.535L110.303,341.432L127.879,340.646L145.455,340.259L163.03,340.348L180.606,340.975L198.182,342.176L215.758,343.952L233.333,346.258L250.909,348.998L268.485,352.027L286.061,355.164L303.636,358.21L321.212,360.978L338.788,363.324L356.364,365.164L373.939,366.492L391.515,367.363L409.091,367.879L426.667,368.149L444.242,368.274L461.818,368.323L479.394,368.339L496.97,368.344L514.545,368.345L532.121,368.345L549.697,368.345L567.273,368.345L584.848,368.345L602.424,368.345L620,368.345\" /></g></svg>"
      ]
     },
     "execution_count": 5,
     "metadata": {},
     "output_type": "execute_result"
    }
   ],
   "source": [
    "const fittedData = fitted(51).drop(offset).toArray()\n",
    "\n",
    "Plot.plot({\n",
    "    marks: [\n",
    "        Plot.dot(data),\n",
    "        Plot.line(fittedData),\n",
    "        Plot.line(\n",
    "            fittedData\n",
    "                .map(([x, y], i, l) => [x, y-l[i-1]?.[1] || 0]),\n",
    "        ),\n",
    "    ],\n",
    "    style: {\n",
    "        background: \"oklch(0.3 0.1 270)\",\n",
    "        color: \"oklch(0.7 0.1 270)\",\n",
    "    },\n",
    "    document,\n",
    "})"
   ]
  }
 ],
 "metadata": {
  "kernelspec": {
   "display_name": "Deno",
   "language": "typescript",
   "name": "deno"
  },
  "language_info": {
   "codemirror_mode": "typescript",
   "file_extension": ".ts",
   "mimetype": "text/x.typescript",
   "name": "typescript",
   "nbconvert_exporter": "script",
   "pygments_lexer": "typescript",
   "version": "5.8.3"
  }
 },
 "nbformat": 4,
 "nbformat_minor": 5
}
