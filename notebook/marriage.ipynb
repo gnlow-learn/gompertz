{
 "cells": [
  {
   "cell_type": "code",
   "execution_count": 1,
   "id": "c8ad6d6f",
   "metadata": {},
   "outputs": [],
   "source": [
    "import { document } from \"jsr:@ry/jupyter-helper\"\n",
    "import * as Plot from \"npm:@observablehq/plot@0.6.17\"\n",
    "import { data } from \"../src/data/marriage.ts\"\n",
    "import { fit } from \"../src/fit.ts\""
   ]
  },
  {
   "cell_type": "code",
   "execution_count": 2,
   "id": "4cbcc55b",
   "metadata": {},
   "outputs": [
    {
     "name": "stdout",
     "output_type": "stream",
     "text": [
      "0.06 0.22 -0.01 0.69 17.98\n"
     ]
    }
   ],
   "source": [
    "const [a, b, c, max, offset] = await fit(data)\n",
    "\n",
    "console.log(\n",
    "    [a, b, c, max, offset].map(x => x.toFixed(2)).join(\" \"),\n",
    ")\n",
    "\n",
    "function* arr(n = Infinity) {\n",
    "    for (let i=0; i<n; i++) {\n",
    "        yield i\n",
    "    }\n",
    "    return\n",
    "}\n",
    "\n",
    "const gompertz_cdf =\n",
    "(...[t, a, b, c, max, offset]: number[]) =>\n",
    "    max*(1-c*(t-offset)-Math.exp(-a/b*(Math.expm1((t-offset)*b))))\n",
    "\n",
    "const fitted =\n",
    "(n = Infinity) => arr(n)\n",
    "    .map(t => [t, gompertz_cdf(t, a, b, c, max, offset)])"
   ]
  },
  {
   "cell_type": "code",
   "execution_count": 3,
   "id": "db27696a",
   "metadata": {},
   "outputs": [
    {
     "data": {
      "image/svg+xml": [
       "<svg style=\"background:oklch(0.3 0.1 270);color:oklch(0.7 0.1 270)\" viewBox=\"0 0 640 400\" height=\"400\" width=\"640\" text-anchor=\"middle\" font-size=\"10\" font-family=\"system-ui, sans-serif\" fill=\"currentColor\" class=\"plot-d6a7b5\"><style>:where(.plot-d6a7b5) {\n",
       "  --plot-background: white;\n",
       "  display: block;\n",
       "  height: auto;\n",
       "  height: intrinsic;\n",
       "  max-width: 100%;\n",
       "}\n",
       ":where(.plot-d6a7b5 text),\n",
       ":where(.plot-d6a7b5 tspan) {\n",
       "  white-space: pre;\n",
       "}</style><g stroke=\"currentColor\" fill=\"none\" aria-hidden=\"true\" aria-label=\"y-axis tick\"><path d=\"M0,0L-6,0\" transform=\"translate(40,354.10209522487406)\" /><path d=\"M0,0L-6,0\" transform=\"translate(40,315.67003535386175)\" /><path d=\"M0,0L-6,0\" transform=\"translate(40,277.2379754828495)\" /><path d=\"M0,0L-6,0\" transform=\"translate(40,238.80591561183715)\" /><path d=\"M0,0L-6,0\" transform=\"translate(40,200.37385574082484)\" /><path d=\"M0,0L-6,0\" transform=\"translate(40,161.9417958698126)\" /><path d=\"M0,0L-6,0\" transform=\"translate(40,123.5097359988003)\" /><path d=\"M0,0L-6,0\" transform=\"translate(40,85.07767612778801)\" /><path d=\"M0,0L-6,0\" transform=\"translate(40,46.645616256775675)\" /></g><g transform=\"translate(-9,0)\" font-variant=\"tabular-nums\" text-anchor=\"end\" aria-label=\"y-axis tick label\"><text transform=\"translate(40,354.10209522487406)\" y=\"0.32em\">0.0</text><text transform=\"translate(40,315.67003535386175)\" y=\"0.32em\">0.1</text><text transform=\"translate(40,277.2379754828495)\" y=\"0.32em\">0.2</text><text transform=\"translate(40,238.80591561183715)\" y=\"0.32em\">0.3</text><text transform=\"translate(40,200.37385574082484)\" y=\"0.32em\">0.4</text><text transform=\"translate(40,161.9417958698126)\" y=\"0.32em\">0.5</text><text transform=\"translate(40,123.5097359988003)\" y=\"0.32em\">0.6</text><text transform=\"translate(40,85.07767612778801)\" y=\"0.32em\">0.7</text><text transform=\"translate(40,46.645616256775675)\" y=\"0.32em\">0.8</text></g><g stroke=\"currentColor\" fill=\"none\" aria-hidden=\"true\" aria-label=\"x-axis tick\"><path d=\"M0,0L0,6\" transform=\"translate(92.72727272727272,370)\" /><path d=\"M0,0L0,6\" transform=\"translate(180.60606060606062,370)\" /><path d=\"M0,0L0,6\" transform=\"translate(268.48484848484844,370)\" /><path d=\"M0,0L0,6\" transform=\"translate(356.3636363636363,370)\" /><path d=\"M0,0L0,6\" transform=\"translate(444.24242424242425,370)\" /><path d=\"M0,0L0,6\" transform=\"translate(532.1212121212121,370)\" /><path d=\"M0,0L0,6\" transform=\"translate(620,370)\" /></g><g transform=\"translate(0,9)\" font-variant=\"tabular-nums\" aria-label=\"x-axis tick label\"><text transform=\"translate(92.72727272727272,370)\" y=\"0.71em\">20</text><text transform=\"translate(180.60606060606062,370)\" y=\"0.71em\">25</text><text transform=\"translate(268.48484848484844,370)\" y=\"0.71em\">30</text><text transform=\"translate(356.3636363636363,370)\" y=\"0.71em\">35</text><text transform=\"translate(444.24242424242425,370)\" y=\"0.71em\">40</text><text transform=\"translate(532.1212121212121,370)\" y=\"0.71em\">45</text><text transform=\"translate(620,370)\" y=\"0.71em\">50</text></g><g stroke-width=\"1.5\" stroke=\"currentColor\" fill=\"none\" aria-label=\"dot\"><circle r=\"3\" cy=\"353.71777462616393\" cx=\"40\" /><circle r=\"3\" cy=\"352.5648128300336\" cx=\"57.57575757575758\" /><circle r=\"3\" cy=\"346.03136265196144\" cx=\"75.15151515151516\" /><circle r=\"3\" cy=\"327.9682945125857\" cx=\"92.72727272727272\" /><circle r=\"3\" cy=\"297.9912878131961\" cx=\"110.30303030303031\" /><circle r=\"3\" cy=\"260.7121897383142\" cx=\"127.87878787878788\" /><circle r=\"3\" cy=\"228.42925944666382\" cx=\"145.45454545454547\" /><circle r=\"3\" cy=\"197.29929095114392\" cx=\"163.03030303030306\" /><circle r=\"3\" cy=\"167.70660485046443\" cx=\"180.60606060606062\" /><circle r=\"3\" cy=\"142.34144533559632\" cx=\"198.18181818181816\" /><circle r=\"3\" cy=\"121.97245360395979\" cx=\"215.75757575757575\" /><circle r=\"3\" cy=\"104.29370606329414\" cx=\"233.33333333333331\" /><circle r=\"3\" cy=\"90.07384391101957\" cx=\"250.90909090909093\" /><circle r=\"3\" cy=\"78.92854654842603\" cx=\"268.48484848484844\" /><circle r=\"3\" cy=\"70.08917277809316\" cx=\"286.06060606060606\" /><circle r=\"3\" cy=\"63.940043198731246\" cx=\"303.6363636363636\" /><circle r=\"3\" cy=\"58.94387541549961\" cx=\"321.21212121212125\" /><circle r=\"3\" cy=\"54.33202823097814\" cx=\"338.78787878787875\" /><circle r=\"3\" cy=\"50.4888222438769\" cx=\"356.3636363636363\" /><circle r=\"3\" cy=\"47.029936855485786\" cx=\"373.939393939394\" /><circle r=\"3\" cy=\"44.339692664515\" cx=\"391.5151515151515\" /><circle r=\"3\" cy=\"42.0337690722542\" cx=\"409.0909090909091\" /><circle r=\"3\" cy=\"39.72784547999352\" cx=\"426.66666666666663\" /><circle r=\"3\" cy=\"37.42192188773272\" cx=\"444.24242424242425\" /><circle r=\"3\" cy=\"35.50031889418209\" cx=\"461.81818181818187\" /><circle r=\"3\" cy=\"33.963036499341655\" cx=\"479.3939393939394\" /><circle r=\"3\" cy=\"32.42575410450114\" cx=\"496.96969696969694\" /><circle r=\"3\" cy=\"31.27279230837078\" cx=\"514.5454545454546\" /><circle r=\"3\" cy=\"30.5041511109505\" cx=\"532.1212121212121\" /><circle r=\"3\" cy=\"29.35118931482018\" cx=\"549.6969696969697\" /><circle r=\"3\" cy=\"28.198227518689823\" cx=\"567.2727272727273\" /><circle r=\"3\" cy=\"27.429586321269543\" cx=\"584.8484848484849\" /><circle r=\"3\" cy=\"26.660945123849302\" cx=\"602.4242424242425\" /><circle r=\"3\" cy=\"25.892303926429026\" cx=\"620\" /></g><g stroke-linecap=\"round\" stroke-linejoin=\"round\" stroke-width=\"1.5\" stroke=\"currentColor\" fill=\"none\" aria-label=\"line\"><path d=\"M40,370L57.576,353.769L75.152,335.048L92.727,313.673L110.303,289.615L127.879,263.053L145.455,234.448L163.03,204.609L180.606,174.707L198.182,146.205L215.758,120.659L233.333,99.402L250.909,83.187L268.485,71.934L286.061,64.758L303.636,60.323L321.212,57.347L338.788,54.958L356.364,52.739L373.939,50.553L391.515,48.37L409.091,46.188L426.667,44.005L444.242,41.823L461.818,39.641L479.394,37.459L496.97,35.276L514.545,33.094L532.121,30.912L549.697,28.729L567.273,26.547L584.848,24.365L602.424,22.182L620,20\" /></g><g stroke-linecap=\"round\" stroke-linejoin=\"round\" stroke-width=\"1.5\" stroke=\"currentColor\" fill=\"none\" aria-label=\"line\"><path d=\"M40,354.102L57.576,337.871L75.152,335.381L92.727,332.727L110.303,330.045L127.879,327.54L145.455,325.497L163.03,324.263L180.606,324.201L198.182,325.6L215.758,328.555L233.333,332.845L250.909,337.887L268.485,342.849L286.061,346.927L303.636,349.667L321.212,351.126L338.788,351.713L356.364,351.883L373.939,351.916L391.515,351.92L409.091,351.92L426.667,351.92L444.242,351.92L461.818,351.92L479.394,351.92L496.97,351.92L514.545,351.92L532.121,351.92L549.697,351.92L567.273,351.92L584.848,351.92L602.424,351.92L620,351.92\" /></g></svg>"
      ]
     },
     "execution_count": 3,
     "metadata": {},
     "output_type": "execute_result"
    }
   ],
   "source": [
    "const fittedData = fitted(51).drop(offset).toArray()\n",
    "\n",
    "Plot.plot({\n",
    "    marks: [\n",
    "        Plot.dot(data),\n",
    "        Plot.line(fittedData),\n",
    "        Plot.line(\n",
    "            fittedData\n",
    "                .map(([x, y], i, l) => [x, y-l[i-1]?.[1] || 0]),\n",
    "        ),\n",
    "    ],\n",
    "    style: {\n",
    "        background: \"oklch(0.3 0.1 270)\",\n",
    "        color: \"oklch(0.7 0.1 270)\",\n",
    "    },\n",
    "    document,\n",
    "})"
   ]
  }
 ],
 "metadata": {
  "kernelspec": {
   "display_name": "Deno",
   "language": "typescript",
   "name": "deno"
  },
  "language_info": {
   "codemirror_mode": "typescript",
   "file_extension": ".ts",
   "mimetype": "text/x.typescript",
   "name": "typescript",
   "nbconvert_exporter": "script",
   "pygments_lexer": "typescript",
   "version": "5.8.3"
  }
 },
 "nbformat": 4,
 "nbformat_minor": 5
}
